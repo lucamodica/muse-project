{
 "cells": [
  {
   "cell_type": "markdown",
   "metadata": {},
   "source": [
    "# MUSE"
   ]
  },
  {
   "cell_type": "markdown",
   "metadata": {},
   "source": [
    "## Imports"
   ]
  },
  {
   "cell_type": "code",
   "execution_count": 1,
   "metadata": {},
   "outputs": [],
   "source": [
    "import tarfile\n",
    "import os\n",
    "from dataset import MELDDataset"
   ]
  },
  {
   "cell_type": "markdown",
   "metadata": {},
   "source": [
    "## Data"
   ]
  },
  {
   "cell_type": "code",
   "execution_count": 2,
   "metadata": {},
   "outputs": [],
   "source": [
    "# extract the data from a \".tar.gz\" file. Put the content into data/name_of_file folder\n",
    "def extract_data(file_name, data_folder):\n",
    "    if not os.path.exists(data_folder):\n",
    "        os.makedirs(data_folder)\n",
    "    tar = tarfile.open(file_name, \"r:gz\")\n",
    "    tar.extractall(data_folder)\n",
    "    tar.close()"
   ]
  },
  {
   "cell_type": "code",
   "execution_count": 3,
   "metadata": {},
   "outputs": [],
   "source": [
    "# extract_data(\"raw/train.tar.gz\", \"data\")"
   ]
  },
  {
   "cell_type": "code",
   "execution_count": 4,
   "metadata": {},
   "outputs": [
    {
     "name": "stdout",
     "output_type": "stream",
     "text": [
      "9990\n"
     ]
    }
   ],
   "source": [
    "# count the number of videos in the dataset\n",
    "def count_videos(data_folder):\n",
    "    return len(os.listdir(data_folder))\n",
    "\n",
    "print(count_videos(\"data/train_splits/\"))"
   ]
  },
  {
   "cell_type": "code",
   "execution_count": 5,
   "metadata": {},
   "outputs": [],
   "source": [
    "# setup the dataset\n",
    "dataset = MELDDataset(\n",
    "    csv_file=\"data/train_sent_emo.csv\", \n",
    "    root_dir=\"./data\",\n",
    "    split_type=\"train\"\n",
    ")"
   ]
  },
  {
   "cell_type": "code",
   "execution_count": 6,
   "metadata": {},
   "outputs": [
    {
     "ename": "RuntimeError",
     "evalue": "Couldn't find appropriate backend to handle uri ./data/train_splits/audio/dia0_utt0.wav and format None.",
     "output_type": "error",
     "traceback": [
      "\u001b[0;31m---------------------------------------------------------------------------\u001b[0m",
      "\u001b[0;31mRuntimeError\u001b[0m                              Traceback (most recent call last)",
      "Cell \u001b[0;32mIn[6], line 1\u001b[0m\n\u001b[0;32m----> 1\u001b[0m example \u001b[38;5;241m=\u001b[39m \u001b[43mdataset\u001b[49m\u001b[43m[\u001b[49m\u001b[38;5;241;43m0\u001b[39;49m\u001b[43m]\u001b[49m\n",
      "File \u001b[0;32m~/chalmers/muse-project/dataset.py:75\u001b[0m, in \u001b[0;36mMELDDataset.__getitem__\u001b[0;34m(self, idx)\u001b[0m\n\u001b[1;32m     72\u001b[0m \u001b[38;5;28;01mdef\u001b[39;00m \u001b[38;5;21m__getitem__\u001b[39m(\u001b[38;5;28mself\u001b[39m, idx):\n\u001b[1;32m     73\u001b[0m     audio_path, transcript, emotion, sentiment \u001b[38;5;241m=\u001b[39m \u001b[38;5;28mself\u001b[39m\u001b[38;5;241m.\u001b[39msamples[idx]\n\u001b[0;32m---> 75\u001b[0m     waveform, sample_rate \u001b[38;5;241m=\u001b[39m \u001b[43mtorchaudio\u001b[49m\u001b[38;5;241;43m.\u001b[39;49m\u001b[43mload\u001b[49m\u001b[43m(\u001b[49m\u001b[43maudio_path\u001b[49m\u001b[43m)\u001b[49m\n\u001b[1;32m     76\u001b[0m     \u001b[38;5;28;01mif\u001b[39;00m \u001b[38;5;28mself\u001b[39m\u001b[38;5;241m.\u001b[39mtransform:\n\u001b[1;32m     77\u001b[0m         waveform \u001b[38;5;241m=\u001b[39m \u001b[38;5;28mself\u001b[39m\u001b[38;5;241m.\u001b[39mtransform(waveform)\n",
      "File \u001b[0;32m~/mambaforge/envs/muse/lib/python3.12/site-packages/torchaudio/_backend/utils.py:204\u001b[0m, in \u001b[0;36mget_load_func.<locals>.load\u001b[0;34m(uri, frame_offset, num_frames, normalize, channels_first, format, buffer_size, backend)\u001b[0m\n\u001b[1;32m    118\u001b[0m \u001b[38;5;28;01mdef\u001b[39;00m \u001b[38;5;21mload\u001b[39m(\n\u001b[1;32m    119\u001b[0m     uri: Union[BinaryIO, \u001b[38;5;28mstr\u001b[39m, os\u001b[38;5;241m.\u001b[39mPathLike],\n\u001b[1;32m    120\u001b[0m     frame_offset: \u001b[38;5;28mint\u001b[39m \u001b[38;5;241m=\u001b[39m \u001b[38;5;241m0\u001b[39m,\n\u001b[0;32m   (...)\u001b[0m\n\u001b[1;32m    126\u001b[0m     backend: Optional[\u001b[38;5;28mstr\u001b[39m] \u001b[38;5;241m=\u001b[39m \u001b[38;5;28;01mNone\u001b[39;00m,\n\u001b[1;32m    127\u001b[0m ) \u001b[38;5;241m-\u001b[39m\u001b[38;5;241m>\u001b[39m Tuple[torch\u001b[38;5;241m.\u001b[39mTensor, \u001b[38;5;28mint\u001b[39m]:\n\u001b[1;32m    128\u001b[0m \u001b[38;5;250m    \u001b[39m\u001b[38;5;124;03m\"\"\"Load audio data from source.\u001b[39;00m\n\u001b[1;32m    129\u001b[0m \n\u001b[1;32m    130\u001b[0m \u001b[38;5;124;03m    By default (``normalize=True``, ``channels_first=True``), this function returns Tensor with\u001b[39;00m\n\u001b[0;32m   (...)\u001b[0m\n\u001b[1;32m    202\u001b[0m \u001b[38;5;124;03m            `[channel, time]` else `[time, channel]`.\u001b[39;00m\n\u001b[1;32m    203\u001b[0m \u001b[38;5;124;03m    \"\"\"\u001b[39;00m\n\u001b[0;32m--> 204\u001b[0m     backend \u001b[38;5;241m=\u001b[39m \u001b[43mdispatcher\u001b[49m\u001b[43m(\u001b[49m\u001b[43muri\u001b[49m\u001b[43m,\u001b[49m\u001b[43m \u001b[49m\u001b[38;5;28;43mformat\u001b[39;49m\u001b[43m,\u001b[49m\u001b[43m \u001b[49m\u001b[43mbackend\u001b[49m\u001b[43m)\u001b[49m\n\u001b[1;32m    205\u001b[0m     \u001b[38;5;28;01mreturn\u001b[39;00m backend\u001b[38;5;241m.\u001b[39mload(uri, frame_offset, num_frames, normalize, channels_first, \u001b[38;5;28mformat\u001b[39m, buffer_size)\n",
      "File \u001b[0;32m~/mambaforge/envs/muse/lib/python3.12/site-packages/torchaudio/_backend/utils.py:116\u001b[0m, in \u001b[0;36mget_load_func.<locals>.dispatcher\u001b[0;34m(uri, format, backend_name)\u001b[0m\n\u001b[1;32m    114\u001b[0m     \u001b[38;5;28;01mif\u001b[39;00m backend\u001b[38;5;241m.\u001b[39mcan_decode(uri, \u001b[38;5;28mformat\u001b[39m):\n\u001b[1;32m    115\u001b[0m         \u001b[38;5;28;01mreturn\u001b[39;00m backend\n\u001b[0;32m--> 116\u001b[0m \u001b[38;5;28;01mraise\u001b[39;00m \u001b[38;5;167;01mRuntimeError\u001b[39;00m(\u001b[38;5;124mf\u001b[39m\u001b[38;5;124m\"\u001b[39m\u001b[38;5;124mCouldn\u001b[39m\u001b[38;5;124m'\u001b[39m\u001b[38;5;124mt find appropriate backend to handle uri \u001b[39m\u001b[38;5;132;01m{\u001b[39;00muri\u001b[38;5;132;01m}\u001b[39;00m\u001b[38;5;124m and format \u001b[39m\u001b[38;5;132;01m{\u001b[39;00m\u001b[38;5;28mformat\u001b[39m\u001b[38;5;132;01m}\u001b[39;00m\u001b[38;5;124m.\u001b[39m\u001b[38;5;124m\"\u001b[39m)\n",
      "\u001b[0;31mRuntimeError\u001b[0m: Couldn't find appropriate backend to handle uri ./data/train_splits/audio/dia0_utt0.wav and format None."
     ]
    }
   ],
   "source": [
    "example = dataset[0]"
   ]
  },
  {
   "cell_type": "code",
   "execution_count": null,
   "metadata": {},
   "outputs": [
    {
     "ename": "NameError",
     "evalue": "name 'mmdatasdk' is not defined",
     "output_type": "error",
     "traceback": [
      "\u001b[0;31m---------------------------------------------------------------------------\u001b[0m",
      "\u001b[0;31mNameError\u001b[0m                                 Traceback (most recent call last)",
      "Cell \u001b[0;32mIn[6], line 11\u001b[0m\n\u001b[1;32m      8\u001b[0m     \u001b[38;5;28mprint\u001b[39m(\u001b[38;5;124m\"\u001b[39m\u001b[38;5;124mData download and alignment complete.\u001b[39m\u001b[38;5;124m\"\u001b[39m)\n\u001b[1;32m      9\u001b[0m     \u001b[38;5;28;01mreturn\u001b[39;00m cmumosi_highlevel\n\u001b[0;32m---> 11\u001b[0m cmumosi_highlevel \u001b[38;5;241m=\u001b[39m \u001b[43mdownload_and_prepare_cmu_mosi\u001b[49m\u001b[43m(\u001b[49m\u001b[43m)\u001b[49m\n\u001b[1;32m     13\u001b[0m \u001b[38;5;66;03m############################################\u001b[39;00m\n\u001b[1;32m     14\u001b[0m \u001b[38;5;66;03m# 2. PyTorch Dataset\u001b[39;00m\n\u001b[1;32m     15\u001b[0m \u001b[38;5;66;03m############################################\u001b[39;00m\n\u001b[1;32m     16\u001b[0m \u001b[38;5;28;01mclass\u001b[39;00m \u001b[38;5;21;01mCMUMOSIDataset\u001b[39;00m(Dataset):\n",
      "Cell \u001b[0;32mIn[6], line 5\u001b[0m, in \u001b[0;36mdownload_and_prepare_cmu_mosi\u001b[0;34m(data_path)\u001b[0m\n\u001b[1;32m      4\u001b[0m \u001b[38;5;28;01mdef\u001b[39;00m \u001b[38;5;21mdownload_and_prepare_cmu_mosi\u001b[39m(data_path\u001b[38;5;241m=\u001b[39m\u001b[38;5;124m\"\u001b[39m\u001b[38;5;124mcmumosi/\u001b[39m\u001b[38;5;124m\"\u001b[39m):\n\u001b[0;32m----> 5\u001b[0m     cmumosi_highlevel \u001b[38;5;241m=\u001b[39m \u001b[43mmmdatasdk\u001b[49m\u001b[38;5;241m.\u001b[39mmmdataset(mmdatasdk\u001b[38;5;241m.\u001b[39mcmu_mosi\u001b[38;5;241m.\u001b[39mhighlevel, data_path)\n\u001b[1;32m      6\u001b[0m     cmumosi_highlevel\u001b[38;5;241m.\u001b[39madd_computational_sequences(mmdatasdk\u001b[38;5;241m.\u001b[39mcmu_mosi\u001b[38;5;241m.\u001b[39mlabels, data_path)\n\u001b[1;32m      7\u001b[0m     cmumosi_highlevel\u001b[38;5;241m.\u001b[39malign(\u001b[38;5;124m'\u001b[39m\u001b[38;5;124mOpinion Segment Labels\u001b[39m\u001b[38;5;124m'\u001b[39m)\n",
      "\u001b[0;31mNameError\u001b[0m: name 'mmdatasdk' is not defined"
     ]
    }
   ],
   "source": [
    "\n",
    "\n",
    "############################################\n",
    "# 1. Data Download & Alignment\n",
    "############################################\n",
    "def download_and_prepare_cmu_mosi(data_path=\"cmumosi/\"):\n",
    "    cmumosi_highlevel = mmdatasdk.mmdataset(mmdatasdk.cmu_mosi.highlevel, data_path)\n",
    "    cmumosi_highlevel.add_computational_sequences(mmdatasdk.cmu_mosi.labels, data_path)\n",
    "    cmumosi_highlevel.align('Opinion Segment Labels')\n",
    "    print(\"Data download and alignment complete.\")\n",
    "    return cmumosi_highlevel\n",
    "\n",
    "cmumosi_highlevel = download_and_prepare_cmu_mosi()\n",
    "\n",
    "############################################\n",
    "# 2. PyTorch Dataset\n",
    "############################################\n",
    "class CMUMOSIDataset(Dataset):\n",
    "    def __init__(self, mmdataset_obj, split='train'):\n",
    "        self.data = []\n",
    "        \n",
    "        # Example: retrieve from \"Opinion Segment Labels\"\n",
    "        for vid in mmdataset_obj.computational_sequences[\"Opinion Segment Labels\"].data.keys():\n",
    "            segment_data = mmdataset_obj.computational_sequences[\"Opinion Segment Labels\"].data[vid]\n",
    "            for seg_key in segment_data[\"features\"]:\n",
    "                label = segment_data[\"features\"][seg_key]\n",
    "                text_data = self._get_feature(mmdataset_obj, \"glove_vectors\", vid, seg_key)\n",
    "                audio_data = self._get_feature(mmdataset_obj, \"COVAREP\", vid, seg_key)\n",
    "                visual_data = self._get_feature(mmdataset_obj, \"FACET_4.2\", vid, seg_key)\n",
    "                \n",
    "                self.data.append({\n",
    "                    \"text\": text_data,\n",
    "                    \"audio\": audio_data,\n",
    "                    \"visual\": visual_data,\n",
    "                    \"label\": label.squeeze() if label.shape[0] == 1 else label\n",
    "                })\n",
    "\n",
    "    def _get_feature(self, mmdataset_obj, feature_key, vid, seg_key):\n",
    "        if feature_key not in mmdataset_obj.computational_sequences:\n",
    "            return np.zeros((1,))\n",
    "        feature_data = mmdataset_obj.computational_sequences[feature_key].data[vid][\"features\"]\n",
    "        if seg_key not in feature_data:\n",
    "            return np.zeros((1,))\n",
    "        return feature_data[seg_key]\n",
    "\n",
    "    def __len__(self):\n",
    "        return len(self.data)\n",
    "    \n",
    "    def __getitem__(self, index):\n",
    "        sample = self.data[index]\n",
    "        text_tensor = torch.tensor(sample[\"text\"], dtype=torch.float)\n",
    "        audio_tensor = torch.tensor(sample[\"audio\"], dtype=torch.float)\n",
    "        visual_tensor = torch.tensor(sample[\"visual\"], dtype=torch.float)\n",
    "        label_tensor = torch.tensor(sample[\"label\"], dtype=torch.float)\n",
    "        return text_tensor, audio_tensor, visual_tensor, label_tensor\n",
    "\n",
    "train_dataset = CMUMOSIDataset(cmumosi_highlevel, split='train')\n",
    "train_loader = DataLoader(train_dataset, batch_size=8, shuffle=True)\n",
    "print(\"Total samples in train dataset:\", len(train_dataset))\n",
    "\n",
    "############################################\n",
    "# 3. Model Definitions\n",
    "############################################\n",
    "# class TextEncoder(nn.Module):\n",
    "#     def __init__(self, vocab_size=5000, embed_dim=300, hidden_dim=128):\n",
    "#         super(TextEncoder, self).__init__()\n",
    "#         self.embedding = nn.Embedding(vocab_size, embed_dim)\n",
    "#         self.lstm = nn.LSTM(embed_dim, hidden_dim, batch_first=True)\n",
    "#         self.hidden_dim = hidden_dim\n",
    "\n",
    "#     def forward(self, x):\n",
    "#         if x.dim() == 2:\n",
    "#             x = x.unsqueeze(1)\n",
    "#         _, (h_n, _) = self.lstm(x)\n",
    "#         h_n = h_n.squeeze(0)\n",
    "#         return h_n\n",
    "    \n",
    "\n",
    "\n",
    "class TextEncoder(nn.Module):\n",
    "    def __init__(self, model_name=\"bert-base-uncased\"):\n",
    "        super(TextEncoder, self).__init__()\n",
    "        self.tokenizer = AutoTokenizer.from_pretrained(model_name)\n",
    "        self.model = AutoModel.from_pretrained(model_name)\n",
    "\n",
    "    def forward(self, input_texts):\n",
    "        # tokenize the input text\n",
    "        inputs = self.tokenizer(\n",
    "            input_texts,\n",
    "            padding=True,\n",
    "            truncation=True,\n",
    "            return_tensors=\"pt\"\n",
    "        )\n",
    "\n",
    "        # get the BERT model output and sentence embeddings\n",
    "        outputs = self.model(**inputs)\n",
    "        embeddings = outputs.last_hidden_state.mean(dim=1)\n",
    "\n",
    "        return embeddings\n",
    "\n",
    "class AudioEncoder(nn.Module):\n",
    "    def __init__(self, input_dim=74, hidden_dim=128):\n",
    "        super(AudioEncoder, self).__init__()\n",
    "        self.conv1 = nn.Conv1d(in_channels=input_dim, out_channels=64, kernel_size=3, padding=1)\n",
    "        self.relu = nn.ReLU()\n",
    "        self.pool = nn.AdaptiveAvgPool1d(1)\n",
    "        self.fc = nn.Linear(64, hidden_dim)\n",
    "        \n",
    "    def forward(self, x):\n",
    "        if x.dim() == 2:\n",
    "            x = x.unsqueeze(2)\n",
    "        x = x.transpose(1, 2)\n",
    "        x = self.conv1(x)\n",
    "        x = self.relu(x)\n",
    "        x = self.pool(x)\n",
    "        x = x.squeeze(-1)\n",
    "        x = self.fc(x)\n",
    "        return x\n",
    "\n",
    "class VisualEncoder(nn.Module):\n",
    "    def __init__(self, input_dim=35, hidden_dim=128):\n",
    "        super(VisualEncoder, self).__init__()\n",
    "        self.fc1 = nn.Linear(input_dim, 64)\n",
    "        self.relu = nn.ReLU()\n",
    "        self.fc2 = nn.Linear(64, hidden_dim)\n",
    "        \n",
    "    def forward(self, x):\n",
    "        if x.dim() > 2:\n",
    "            x = x.mean(dim=1)\n",
    "        x = self.fc1(x)\n",
    "        x = self.relu(x)\n",
    "        x = self.fc2(x)\n",
    "        return x\n",
    "\n",
    "class MultimodalModel(nn.Module):\n",
    "    def __init__(self, text_hidden_dim=128, audio_hidden_dim=128, visual_hidden_dim=128, \n",
    "                 fusion_output_dim=64, num_classes=1):\n",
    "        super(MultimodalModel, self).__init__()\n",
    "        self.text_encoder = TextEncoder(embedding_dim=text_hidden_dim)\n",
    "        self.audio_encoder = AudioEncoder(hidden_dim=audio_hidden_dim)\n",
    "        self.visual_encoder = VisualEncoder(hidden_dim=visual_hidden_dim)\n",
    "        \n",
    "        total_fusion_dim = text_hidden_dim + audio_hidden_dim + visual_hidden_dim\n",
    "        \n",
    "        self.fusion_fc1 = nn.Linear(total_fusion_dim, fusion_output_dim)\n",
    "        self.relu = nn.ReLU()\n",
    "        self.final_fc = nn.Linear(fusion_output_dim, num_classes)\n",
    "        \n",
    "    def forward(self, text_input, audio_input, visual_input):\n",
    "        text_repr = self.text_encoder(text_input)\n",
    "        audio_repr = self.audio_encoder(audio_input)\n",
    "        visual_repr = self.visual_encoder(visual_input)\n",
    "        \n",
    "        fused = torch.cat([text_repr, audio_repr, visual_repr], dim=1)\n",
    "        fused = self.fusion_fc1(fused)\n",
    "        fused = self.relu(fused)\n",
    "        \n",
    "        out = self.final_fc(fused)\n",
    "        return out.squeeze()\n",
    "\n",
    "############################################\n",
    "# 4. Training Loop (Simplified)\n",
    "############################################\n",
    "model = MultimodalModel(num_classes=1)\n",
    "criterion = nn.MSELoss()\n",
    "optimizer = optim.Adam(model.parameters(), lr=1e-3)\n",
    "\n",
    "device = torch.device(\"cuda\" if torch.cuda.is_available() else \"cpu\")\n",
    "model.to(device)\n",
    "\n",
    "num_epochs = 3\n",
    "for epoch in range(num_epochs):\n",
    "    model.train()\n",
    "    running_loss = 0.0\n",
    "    \n",
    "    for i, (text_batch, audio_batch, visual_batch, label_batch) in enumerate(train_loader):\n",
    "        text_batch = text_batch.to(device)\n",
    "        audio_batch = audio_batch.to(device)\n",
    "        visual_batch = visual_batch.to(device)\n",
    "        label_batch = label_batch.to(device)\n",
    "        \n",
    "        optimizer.zero_grad()\n",
    "        outputs = model(text_batch, audio_batch, visual_batch)\n",
    "        loss = criterion(outputs, label_batch)\n",
    "        loss.backward()\n",
    "        optimizer.step()\n",
    "        \n",
    "        running_loss += loss.item()\n",
    "    \n",
    "    epoch_loss = running_loss / len(train_loader)\n",
    "    print(f\"Epoch [{epoch+1}/{num_epochs}], Loss: {epoch_loss:.4f}\")"
   ]
  }
 ],
 "metadata": {
  "kernelspec": {
   "display_name": "Python 3",
   "language": "python",
   "name": "python3"
  },
  "language_info": {
   "codemirror_mode": {
    "name": "ipython",
    "version": 3
   },
   "file_extension": ".py",
   "mimetype": "text/x-python",
   "name": "python",
   "nbconvert_exporter": "python",
   "pygments_lexer": "ipython3",
   "version": "3.12.8"
  }
 },
 "nbformat": 4,
 "nbformat_minor": 2
}
