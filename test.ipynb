{
 "cells": [
  {
   "cell_type": "markdown",
   "metadata": {},
   "source": [
    "# MUSE"
   ]
  },
  {
   "cell_type": "markdown",
   "metadata": {},
   "source": [
    "## Imports"
   ]
  },
  {
   "cell_type": "code",
   "execution_count": 1,
   "metadata": {},
   "outputs": [],
   "source": [
    "import tarfile\n",
    "import os\n",
    "from dataset import MELDDataset"
   ]
  },
  {
   "cell_type": "markdown",
   "metadata": {},
   "source": [
    "## Data"
   ]
  },
  {
   "cell_type": "code",
   "execution_count": 2,
   "metadata": {},
   "outputs": [],
   "source": [
    "# extract the data from a \".tar.gz\" file. Put the content into data/name_of_file folder\n",
    "def extract_data(file_name, data_folder):\n",
    "    if not os.path.exists(data_folder):\n",
    "        os.makedirs(data_folder)\n",
    "    tar = tarfile.open(file_name, \"r:gz\")\n",
    "    tar.extractall(data_folder)\n",
    "    tar.close()"
   ]
  },
  {
   "cell_type": "code",
   "execution_count": 3,
   "metadata": {},
   "outputs": [],
   "source": [
    "# extract_data(\"data/raw/train.tar.gz\", \"data/train\")"
   ]
  },
  {
   "cell_type": "markdown",
   "metadata": {},
   "source": [
    "## Dataset"
   ]
  },
  {
   "cell_type": "code",
   "execution_count": 9,
   "metadata": {},
   "outputs": [],
   "source": [
    "# setup the dataset\n",
    "dataset = MELDDataset(\n",
    "    csv_file=\"data/train/train_sent_emo.csv\",\n",
    "    root_dir=\"data/train\",\n",
    ")"
   ]
  },
  {
   "cell_type": "code",
   "execution_count": 6,
   "metadata": {},
   "outputs": [
    {
     "name": "stdout",
     "output_type": "stream",
     "text": [
      "Corrupted video detected: data/train/video/dia125_utt3.mp4\n"
     ]
    }
   ],
   "source": [
    "import subprocess\n",
    "\n",
    "import os\n",
    "import subprocess\n",
    "from pathlib import Path\n",
    "\n",
    "\n",
    "def filter_corrupted_videos(folder_path, extensions=(\"mp4\", \"mov\", \"mkv\", \"avi\")):\n",
    "    \"\"\"\n",
    "    Filters out corrupted video files in a specified folder.\n",
    "\n",
    "    Args:\n",
    "        folder_path (str): Path to the folder containing video files.\n",
    "        extensions (tuple): Allowed video file extensions to check (default: common formats).\n",
    "\n",
    "    Returns:\n",
    "        valid_videos (list): List of valid video file paths.\n",
    "        corrupted_videos (list): List of corrupted or invalid video file paths.\n",
    "    \"\"\"\n",
    "    valid_videos = []\n",
    "    corrupted_videos = []\n",
    "\n",
    "    # Get all video files in the folder with the specified extensions\n",
    "    video_files = [file for ext in extensions for file in Path(\n",
    "        folder_path).rglob(f\"*.{ext}\")]\n",
    "\n",
    "    for video_path in video_files:\n",
    "        # Convert Path object to string (for subprocess compatibility)\n",
    "        video_path = str(video_path)\n",
    "\n",
    "        # Run ffprobe to check the video file\n",
    "        try:\n",
    "            command = [\n",
    "                \"ffprobe\", \"-v\", \"error\", \"-show_entries\", \"format=duration\",\n",
    "                \"-of\", \"default=noprint_wrappers=1:nokey=1\", video_path\n",
    "            ]\n",
    "            result = subprocess.run(\n",
    "                command, stdout=subprocess.PIPE, stderr=subprocess.PIPE, text=True)\n",
    "\n",
    "            if result.returncode == 0:\n",
    "                # If ffprobe runs successfully and returns a duration, the video is valid\n",
    "                duration = result.stdout.strip()\n",
    "                if duration:  # If duration is not empty\n",
    "                    valid_videos.append(video_path)\n",
    "                else:\n",
    "                    corrupted_videos.append(video_path)\n",
    "            else:\n",
    "                # If ffprobe fails, the video is considered corrupted\n",
    "                print(f\"Corrupted video detected: {video_path}\")\n",
    "                corrupted_videos.append(video_path)\n",
    "\n",
    "        except Exception as e:\n",
    "            # Catch unexpected errors\n",
    "            print(f\"Error processing file {video_path}: {e}\")\n",
    "            corrupted_videos.append(video_path)\n",
    "\n",
    "    return valid_videos, corrupted_videos\n",
    "\n",
    "results = filter_corrupted_videos('data/train/video')"
   ]
  },
  {
   "cell_type": "code",
   "execution_count": 7,
   "metadata": {},
   "outputs": [
    {
     "name": "stdout",
     "output_type": "stream",
     "text": [
      "Total videos: 9988\n",
      "Corrupted videos: 1\n"
     ]
    }
   ],
   "source": [
    "print(f\"Total videos: {len(results[0])}\")\n",
    "print(f\"Corrupted videos: {len(results[1])}\")"
   ]
  },
  {
   "cell_type": "code",
   "execution_count": 13,
   "metadata": {},
   "outputs": [
    {
     "name": "stdout",
     "output_type": "stream",
     "text": [
      "9988\n",
      "9988\n"
     ]
    }
   ],
   "source": [
    "def count_files_in_folder(folder_path):\n",
    "    \"\"\"\n",
    "    Counts the number of files in a specific folder.\n",
    "    \n",
    "    Args:\n",
    "        folder_path (str): The path to the folder.\n",
    "    \n",
    "    Returns:\n",
    "        int: The number of files in the folder.\n",
    "    \"\"\"\n",
    "    try:\n",
    "        # List all entries in the folder\n",
    "        entries = os.listdir(folder_path)\n",
    "\n",
    "        # Filter out only files\n",
    "        files = [entry for entry in entries if os.path.isfile(\n",
    "            os.path.join(folder_path, entry))]\n",
    "\n",
    "        # Return the count of files\n",
    "        return len(files)\n",
    "    except FileNotFoundError:\n",
    "        print(f\"Error: The folder '{folder_path}' does not exist.\")\n",
    "        return 0\n",
    "    except PermissionError:\n",
    "        print(\n",
    "            f\"Error: Permission denied to access the folder '{folder_path}'.\")\n",
    "        return 0\n",
    "\n",
    "\n",
    "print(count_files_in_folder(\"./data/train/audio/\"))\n",
    "print(count_files_in_folder(\"./data/train/video/\"))"
   ]
  },
  {
   "cell_type": "code",
   "execution_count": null,
   "metadata": {},
   "outputs": [
    {
     "data": {
      "text/plain": [
       "{'audio_array': array([-0.00198962, -0.02142128, -0.02587057, ..., -0.06124197,\n",
       "        -0.06868309, -0.0437346 ], dtype=float32),\n",
       " 'sampling_rate': 22050,\n",
       " 'transcript': 'also I was the point person on my company\\x92s transition from the KL-5 to GR-6 system.',\n",
       " 'emotion': 'neutral',\n",
       " 'sentiment': 'neutral'}"
      ]
     },
     "execution_count": 6,
     "metadata": {},
     "output_type": "execute_result"
    }
   ],
   "source": [
    "example = dataset[0]\n",
    "example"
   ]
  },
  {
   "cell_type": "code",
   "execution_count": null,
   "metadata": {},
   "outputs": [],
   "source": [
    "from model import *\n",
    "\n",
    "emotions = dataset.get_emotions_list()\n",
    "model = MultimodalClassifier(num_classes=len(emotions))"
   ]
  }
 ],
 "metadata": {
  "kernelspec": {
   "display_name": "muse",
   "language": "python",
   "name": "python3"
  },
  "language_info": {
   "codemirror_mode": {
    "name": "ipython",
    "version": 3
   },
   "file_extension": ".py",
   "mimetype": "text/x-python",
   "name": "python",
   "nbconvert_exporter": "python",
   "pygments_lexer": "ipython3",
   "version": "3.12.8"
  }
 },
 "nbformat": 4,
 "nbformat_minor": 2
}
